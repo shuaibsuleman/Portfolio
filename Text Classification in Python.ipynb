{
 "cells": [
  {
   "cell_type": "markdown",
   "id": "3e1739b9",
   "metadata": {},
   "source": [
    "#### Objective\n",
    "\n",
    "> Conduct text classification to predict whether a youtube comment is toxic or not. To this end, we will use actual comments, build classficiation models and evaluate how the models perform using classification Accuracy scores."
   ]
  },
  {
   "cell_type": "markdown",
   "id": "24de92ba",
   "metadata": {},
   "source": [
    "### Import packages"
   ]
  },
  {
   "cell_type": "code",
   "execution_count": 4,
   "id": "86abfc77",
   "metadata": {},
   "outputs": [
    {
     "ename": "ModuleNotFoundError",
     "evalue": "No module named 'pandas'",
     "output_type": "error",
     "traceback": [
      "\u001b[1;31m---------------------------------------------------------------------------\u001b[0m",
      "\u001b[1;31mModuleNotFoundError\u001b[0m                       Traceback (most recent call last)",
      "\u001b[1;32mc:\\Users\\30089026\\Documents\\Lanseria Smart City\\MBA\\(JGU)OPJindal\\Coursework\\Semester 2\\Text Analytics\\Final Assignment\\Text Classification in Python.ipynb Cell 3\u001b[0m in \u001b[0;36m<cell line: 1>\u001b[1;34m()\u001b[0m\n\u001b[1;32m----> <a href='vscode-notebook-cell:/c%3A/Users/30089026/Documents/Lanseria%20Smart%20City/MBA/%28JGU%29OPJindal/Coursework/Semester%202/Text%20Analytics/Final%20Assignment/Text%20Classification%20in%20Python.ipynb#W2sZmlsZQ%3D%3D?line=0'>1</a>\u001b[0m \u001b[39mimport\u001b[39;00m \u001b[39mpandas\u001b[39;00m \u001b[39mas\u001b[39;00m \u001b[39mpd\u001b[39;00m\n\u001b[0;32m      <a href='vscode-notebook-cell:/c%3A/Users/30089026/Documents/Lanseria%20Smart%20City/MBA/%28JGU%29OPJindal/Coursework/Semester%202/Text%20Analytics/Final%20Assignment/Text%20Classification%20in%20Python.ipynb#W2sZmlsZQ%3D%3D?line=1'>2</a>\u001b[0m \u001b[39mimport\u001b[39;00m \u001b[39mnumpy\u001b[39;00m \u001b[39mas\u001b[39;00m \u001b[39mnp\u001b[39;00m\n\u001b[0;32m      <a href='vscode-notebook-cell:/c%3A/Users/30089026/Documents/Lanseria%20Smart%20City/MBA/%28JGU%29OPJindal/Coursework/Semester%202/Text%20Analytics/Final%20Assignment/Text%20Classification%20in%20Python.ipynb#W2sZmlsZQ%3D%3D?line=2'>3</a>\u001b[0m \u001b[39mimport\u001b[39;00m \u001b[39mmatplotlib\u001b[39;00m\u001b[39m.\u001b[39;00m\u001b[39mpyplot\u001b[39;00m \u001b[39mas\u001b[39;00m \u001b[39mplt\u001b[39;00m\n",
      "\u001b[1;31mModuleNotFoundError\u001b[0m: No module named 'pandas'"
     ]
    }
   ],
   "source": [
    "import pandas as pd\n",
    "import numpy as np\n",
    "import matplotlib.pyplot as plt\n",
    "import seaborn as sns\n",
    "import string\n",
    "import warnings\n",
    "warnings.filterwarnings('ignore')\n",
    "import nltk\n",
    "'''Download nltk tools that will be used'''\n",
    "#Download the stopwords from the nltk library\n",
    "nltk.download('stopwords')\n",
    "\n",
    "#download wordnet lemmatizer\n",
    "nltk.download('wordnet')\n",
    "nltk.download('omw-1.4')\n",
    "from sklearn.feature_extraction.text import CountVectorizer\n",
    "from nltk.corpus import stopwords\n",
    "from sklearn.metrics import classification_report\n",
    "from sklearn.metrics import f1_score\n",
    "from sklearn.metrics import accuracy_score\n",
    "import re\n",
    "from nltk.stem import WordNetLemmatizer\n",
    "#\n",
    "from sklearn.ensemble import RandomForestClassifier\n",
    "from sklearn.model_selection import train_test_split\n",
    "from sklearn.tree import DecisionTreeClassifier\n",
    "from sklearn.naive_bayes import GaussianNB\n",
    "from sklearn.svm import SVC\n",
    "from sklearn.model_selection import RandomizedSearchCV\n",
    "from sklearn.model_selection import GridSearchCV"
   ]
  },
  {
   "cell_type": "markdown",
   "id": "3e2847be",
   "metadata": {},
   "source": [
    "#### Import data"
   ]
  },
  {
   "cell_type": "code",
   "execution_count": null,
   "id": "17aec5c6",
   "metadata": {},
   "outputs": [
    {
     "ename": "NameError",
     "evalue": "name 'pd' is not defined",
     "output_type": "error",
     "traceback": [
      "\u001b[1;31m---------------------------------------------------------------------------\u001b[0m",
      "\u001b[1;31mNameError\u001b[0m                                 Traceback (most recent call last)",
      "\u001b[1;32mc:\\Users\\30089026\\Documents\\Lanseria Smart City\\MBA\\(JGU)OPJindal\\Coursework\\Semester 2\\Text Analytics\\Final Assignment\\Text Classification in Python.ipynb Cell 5\u001b[0m in \u001b[0;36m<cell line: 1>\u001b[1;34m()\u001b[0m\n\u001b[1;32m----> <a href='vscode-notebook-cell:/c%3A/Users/30089026/Documents/Lanseria%20Smart%20City/MBA/%28JGU%29OPJindal/Coursework/Semester%202/Text%20Analytics/Final%20Assignment/Text%20Classification%20in%20Python.ipynb#W4sZmlsZQ%3D%3D?line=0'>1</a>\u001b[0m df \u001b[39m=\u001b[39m pd\u001b[39m.\u001b[39mread_csv(\u001b[39m\"\u001b[39m\u001b[39mdata/youtoxic_english_1000.csv\u001b[39m\u001b[39m\"\u001b[39m)\n",
      "\u001b[1;31mNameError\u001b[0m: name 'pd' is not defined"
     ]
    }
   ],
   "source": [
    "df = pd.read_csv(\"data/youtoxic_english_1000.csv\")"
   ]
  },
  {
   "cell_type": "code",
   "execution_count": null,
   "id": "8f8c324e",
   "metadata": {},
   "outputs": [
    {
     "ename": "NameError",
     "evalue": "name 'df' is not defined",
     "output_type": "error",
     "traceback": [
      "\u001b[1;31m---------------------------------------------------------------------------\u001b[0m",
      "\u001b[1;31mNameError\u001b[0m                                 Traceback (most recent call last)",
      "\u001b[1;32mc:\\Users\\30089026\\Documents\\Lanseria Smart City\\MBA\\(JGU)OPJindal\\Coursework\\Semester 2\\Text Analytics\\Final Assignment\\Text Classification in Python.ipynb Cell 6\u001b[0m in \u001b[0;36m<cell line: 2>\u001b[1;34m()\u001b[0m\n\u001b[0;32m      <a href='vscode-notebook-cell:/c%3A/Users/30089026/Documents/Lanseria%20Smart%20City/MBA/%28JGU%29OPJindal/Coursework/Semester%202/Text%20Analytics/Final%20Assignment/Text%20Classification%20in%20Python.ipynb#W5sZmlsZQ%3D%3D?line=0'>1</a>\u001b[0m \u001b[39m#overview of the data\u001b[39;00m\n\u001b[1;32m----> <a href='vscode-notebook-cell:/c%3A/Users/30089026/Documents/Lanseria%20Smart%20City/MBA/%28JGU%29OPJindal/Coursework/Semester%202/Text%20Analytics/Final%20Assignment/Text%20Classification%20in%20Python.ipynb#W5sZmlsZQ%3D%3D?line=1'>2</a>\u001b[0m df\u001b[39m.\u001b[39mhead()\n",
      "\u001b[1;31mNameError\u001b[0m: name 'df' is not defined"
     ]
    }
   ],
   "source": [
    "#overview of the data\n",
    "df.head()"
   ]
  },
  {
   "cell_type": "markdown",
   "id": "9a8eb313",
   "metadata": {},
   "source": [
    "### Text Preprocessing\n",
    "\n",
    "> During text preprocessing, the following processes are conducted:\n",
    "\n",
    "1. Removing punctuation from the data\n",
    "2. Handling missing observations\n",
    "3. Tokenization of the comments\n",
    "4. Remove stop words\n",
    "5. Lemmatization"
   ]
  },
  {
   "cell_type": "code",
   "execution_count": null,
   "id": "9580bdeb",
   "metadata": {},
   "outputs": [
    {
     "ename": "NameError",
     "evalue": "name 'df' is not defined",
     "output_type": "error",
     "traceback": [
      "\u001b[1;31m---------------------------------------------------------------------------\u001b[0m",
      "\u001b[1;31mNameError\u001b[0m                                 Traceback (most recent call last)",
      "\u001b[1;32mc:\\Users\\30089026\\Documents\\Lanseria Smart City\\MBA\\(JGU)OPJindal\\Coursework\\Semester 2\\Text Analytics\\Final Assignment\\Text Classification in Python.ipynb Cell 8\u001b[0m in \u001b[0;36m<cell line: 8>\u001b[1;34m()\u001b[0m\n\u001b[0;32m      <a href='vscode-notebook-cell:/c%3A/Users/30089026/Documents/Lanseria%20Smart%20City/MBA/%28JGU%29OPJindal/Coursework/Semester%202/Text%20Analytics/Final%20Assignment/Text%20Classification%20in%20Python.ipynb#X10sZmlsZQ%3D%3D?line=5'>6</a>\u001b[0m     \u001b[39mreturn\u001b[39;00m no_punct\n\u001b[0;32m      <a href='vscode-notebook-cell:/c%3A/Users/30089026/Documents/Lanseria%20Smart%20City/MBA/%28JGU%29OPJindal/Coursework/Semester%202/Text%20Analytics/Final%20Assignment/Text%20Classification%20in%20Python.ipynb#X10sZmlsZQ%3D%3D?line=6'>7</a>\u001b[0m \u001b[39m#Define new variable with text that has no punctuations\u001b[39;00m\n\u001b[1;32m----> <a href='vscode-notebook-cell:/c%3A/Users/30089026/Documents/Lanseria%20Smart%20City/MBA/%28JGU%29OPJindal/Coursework/Semester%202/Text%20Analytics/Final%20Assignment/Text%20Classification%20in%20Python.ipynb#X10sZmlsZQ%3D%3D?line=7'>8</a>\u001b[0m df[\u001b[39m'\u001b[39m\u001b[39mclean_comment\u001b[39m\u001b[39m'\u001b[39m]\u001b[39m=\u001b[39m df[\u001b[39m'\u001b[39m\u001b[39mText\u001b[39m\u001b[39m'\u001b[39m]\u001b[39m.\u001b[39mapply(\u001b[39mlambda\u001b[39;00m x:remove_punctuation(x))\n\u001b[0;32m      <a href='vscode-notebook-cell:/c%3A/Users/30089026/Documents/Lanseria%20Smart%20City/MBA/%28JGU%29OPJindal/Coursework/Semester%202/Text%20Analytics/Final%20Assignment/Text%20Classification%20in%20Python.ipynb#X10sZmlsZQ%3D%3D?line=8'>9</a>\u001b[0m df\u001b[39m.\u001b[39mhead()\n",
      "\u001b[1;31mNameError\u001b[0m: name 'df' is not defined"
     ]
    }
   ],
   "source": [
    "def remove_punctuation(text):\n",
    "    '''\n",
    "    utility function to remove punctuation\n",
    "    '''\n",
    "    no_punct = \"\".join([i for i in text if i not in string.punctuation])\n",
    "    return no_punct\n",
    "#Define new variable with text that has no punctuations\n",
    "df['clean_comment']= df['Text'].apply(lambda x:remove_punctuation(x))\n",
    "df.head()"
   ]
  },
  {
   "cell_type": "markdown",
   "id": "ead4fa9c",
   "metadata": {},
   "source": [
    "##### Text Normalization"
   ]
  },
  {
   "cell_type": "code",
   "execution_count": null,
   "id": "38969f94",
   "metadata": {},
   "outputs": [
    {
     "ename": "NameError",
     "evalue": "name 'df' is not defined",
     "output_type": "error",
     "traceback": [
      "\u001b[1;31m---------------------------------------------------------------------------\u001b[0m",
      "\u001b[1;31mNameError\u001b[0m                                 Traceback (most recent call last)",
      "\u001b[1;32mc:\\Users\\30089026\\Documents\\Lanseria Smart City\\MBA\\(JGU)OPJindal\\Coursework\\Semester 2\\Text Analytics\\Final Assignment\\Text Classification in Python.ipynb Cell 10\u001b[0m in \u001b[0;36m<cell line: 2>\u001b[1;34m()\u001b[0m\n\u001b[0;32m      <a href='vscode-notebook-cell:/c%3A/Users/30089026/Documents/Lanseria%20Smart%20City/MBA/%28JGU%29OPJindal/Coursework/Semester%202/Text%20Analytics/Final%20Assignment/Text%20Classification%20in%20Python.ipynb#X12sZmlsZQ%3D%3D?line=0'>1</a>\u001b[0m \u001b[39m#Normalize the comments by converting to lower case\u001b[39;00m\n\u001b[1;32m----> <a href='vscode-notebook-cell:/c%3A/Users/30089026/Documents/Lanseria%20Smart%20City/MBA/%28JGU%29OPJindal/Coursework/Semester%202/Text%20Analytics/Final%20Assignment/Text%20Classification%20in%20Python.ipynb#X12sZmlsZQ%3D%3D?line=1'>2</a>\u001b[0m df[\u001b[39m'\u001b[39m\u001b[39mclean_comment\u001b[39m\u001b[39m'\u001b[39m]\u001b[39m=\u001b[39m df[\u001b[39m'\u001b[39m\u001b[39mclean_comment\u001b[39m\u001b[39m'\u001b[39m]\u001b[39m.\u001b[39mapply(\u001b[39mlambda\u001b[39;00m x: x\u001b[39m.\u001b[39mlower())\n\u001b[0;32m      <a href='vscode-notebook-cell:/c%3A/Users/30089026/Documents/Lanseria%20Smart%20City/MBA/%28JGU%29OPJindal/Coursework/Semester%202/Text%20Analytics/Final%20Assignment/Text%20Classification%20in%20Python.ipynb#X12sZmlsZQ%3D%3D?line=4'>5</a>\u001b[0m \u001b[39mdef\u001b[39;00m \u001b[39mtokenization\u001b[39m(text):\n\u001b[0;32m      <a href='vscode-notebook-cell:/c%3A/Users/30089026/Documents/Lanseria%20Smart%20City/MBA/%28JGU%29OPJindal/Coursework/Semester%202/Text%20Analytics/Final%20Assignment/Text%20Classification%20in%20Python.ipynb#X12sZmlsZQ%3D%3D?line=5'>6</a>\u001b[0m     \u001b[39m'''\u001b[39;00m\n\u001b[0;32m      <a href='vscode-notebook-cell:/c%3A/Users/30089026/Documents/Lanseria%20Smart%20City/MBA/%28JGU%29OPJindal/Coursework/Semester%202/Text%20Analytics/Final%20Assignment/Text%20Classification%20in%20Python.ipynb#X12sZmlsZQ%3D%3D?line=6'>7</a>\u001b[0m \u001b[39m    Utility function to apply tokenization\u001b[39;00m\n\u001b[0;32m      <a href='vscode-notebook-cell:/c%3A/Users/30089026/Documents/Lanseria%20Smart%20City/MBA/%28JGU%29OPJindal/Coursework/Semester%202/Text%20Analytics/Final%20Assignment/Text%20Classification%20in%20Python.ipynb#X12sZmlsZQ%3D%3D?line=7'>8</a>\u001b[0m \u001b[39m    '''\u001b[39;00m\n",
      "\u001b[1;31mNameError\u001b[0m: name 'df' is not defined"
     ]
    }
   ],
   "source": [
    "#Normalize the comments by converting to lower case\n",
    "df['clean_comment']= df['clean_comment'].apply(lambda x: x.lower())\n",
    "\n",
    "\n",
    "def tokenization(text):\n",
    "    '''\n",
    "    Utility function to apply tokenization\n",
    "    '''\n",
    "    tokens = re.split('W+',text)\n",
    "    return tokens\n",
    "#applying function to the column and creating a new column (\"Comment\")\n",
    "df['Comment']= df['clean_comment'].apply(lambda x: tokenization(x))"
   ]
  },
  {
   "cell_type": "markdown",
   "id": "af11ff0e",
   "metadata": {},
   "source": [
    "##### Remove stop words"
   ]
  },
  {
   "cell_type": "code",
   "execution_count": null,
   "id": "3d62e4cf",
   "metadata": {},
   "outputs": [
    {
     "ename": "NameError",
     "evalue": "name 'nltk' is not defined",
     "output_type": "error",
     "traceback": [
      "\u001b[1;31m---------------------------------------------------------------------------\u001b[0m",
      "\u001b[1;31mNameError\u001b[0m                                 Traceback (most recent call last)",
      "\u001b[1;32mc:\\Users\\30089026\\Documents\\Lanseria Smart City\\MBA\\(JGU)OPJindal\\Coursework\\Semester 2\\Text Analytics\\Final Assignment\\Text Classification in Python.ipynb Cell 12\u001b[0m in \u001b[0;36m<cell line: 1>\u001b[1;34m()\u001b[0m\n\u001b[1;32m----> <a href='vscode-notebook-cell:/c%3A/Users/30089026/Documents/Lanseria%20Smart%20City/MBA/%28JGU%29OPJindal/Coursework/Semester%202/Text%20Analytics/Final%20Assignment/Text%20Classification%20in%20Python.ipynb#X14sZmlsZQ%3D%3D?line=0'>1</a>\u001b[0m stop_words \u001b[39m=\u001b[39m nltk\u001b[39m.\u001b[39mcorpus\u001b[39m.\u001b[39mstopwords\u001b[39m.\u001b[39mwords(\u001b[39m'\u001b[39m\u001b[39menglish\u001b[39m\u001b[39m'\u001b[39m)\n\u001b[0;32m      <a href='vscode-notebook-cell:/c%3A/Users/30089026/Documents/Lanseria%20Smart%20City/MBA/%28JGU%29OPJindal/Coursework/Semester%202/Text%20Analytics/Final%20Assignment/Text%20Classification%20in%20Python.ipynb#X14sZmlsZQ%3D%3D?line=3'>4</a>\u001b[0m \u001b[39mdef\u001b[39;00m \u001b[39mclean_stopwords\u001b[39m(text):\n\u001b[0;32m      <a href='vscode-notebook-cell:/c%3A/Users/30089026/Documents/Lanseria%20Smart%20City/MBA/%28JGU%29OPJindal/Coursework/Semester%202/Text%20Analytics/Final%20Assignment/Text%20Classification%20in%20Python.ipynb#X14sZmlsZQ%3D%3D?line=4'>5</a>\u001b[0m     \u001b[39m'''\u001b[39;00m\n\u001b[0;32m      <a href='vscode-notebook-cell:/c%3A/Users/30089026/Documents/Lanseria%20Smart%20City/MBA/%28JGU%29OPJindal/Coursework/Semester%202/Text%20Analytics/Final%20Assignment/Text%20Classification%20in%20Python.ipynb#X14sZmlsZQ%3D%3D?line=5'>6</a>\u001b[0m \u001b[39m    Utility function to remove stopwords from tokenized tex\u001b[39;00m\n\u001b[0;32m      <a href='vscode-notebook-cell:/c%3A/Users/30089026/Documents/Lanseria%20Smart%20City/MBA/%28JGU%29OPJindal/Coursework/Semester%202/Text%20Analytics/Final%20Assignment/Text%20Classification%20in%20Python.ipynb#X14sZmlsZQ%3D%3D?line=6'>7</a>\u001b[0m \u001b[39m    '''\u001b[39;00m\n",
      "\u001b[1;31mNameError\u001b[0m: name 'nltk' is not defined"
     ]
    }
   ],
   "source": [
    "\n",
    "stop_words = nltk.corpus.stopwords.words('english')\n",
    "\n",
    "\n",
    "def clean_stopwords(text):\n",
    "    '''\n",
    "    Utility function to remove stopwords from tokenized tex\n",
    "    '''\n",
    "    output= [i for i in text if i not in stop_words]\n",
    "    return output"
   ]
  },
  {
   "cell_type": "code",
   "execution_count": null,
   "id": "5aa6eb8b",
   "metadata": {},
   "outputs": [],
   "source": [
    "#applying the function\n",
    "df['Comments']= df['Comment'].apply(lambda x:clean_stopwords(x))"
   ]
  },
  {
   "cell_type": "markdown",
   "id": "64552d7a",
   "metadata": {},
   "source": [
    "#### Lemmatization"
   ]
  },
  {
   "cell_type": "code",
   "execution_count": null,
   "id": "13c1ab97",
   "metadata": {},
   "outputs": [
    {
     "ename": "NameError",
     "evalue": "name 'df' is not defined",
     "output_type": "error",
     "traceback": [
      "\u001b[1;31m---------------------------------------------------------------------------\u001b[0m",
      "\u001b[1;31mNameError\u001b[0m                                 Traceback (most recent call last)",
      "\u001b[1;32mc:\\Users\\30089026\\Documents\\Lanseria Smart City\\MBA\\(JGU)OPJindal\\Coursework\\Semester 2\\Text Analytics\\Final Assignment\\Text Classification in Python.ipynb Cell 15\u001b[0m in \u001b[0;36m<cell line: 2>\u001b[1;34m()\u001b[0m\n\u001b[0;32m      <a href='vscode-notebook-cell:/c%3A/Users/30089026/Documents/Lanseria%20Smart%20City/MBA/%28JGU%29OPJindal/Coursework/Semester%202/Text%20Analytics/Final%20Assignment/Text%20Classification%20in%20Python.ipynb#X20sZmlsZQ%3D%3D?line=0'>1</a>\u001b[0m comments \u001b[39m=\u001b[39m []\n\u001b[1;32m----> <a href='vscode-notebook-cell:/c%3A/Users/30089026/Documents/Lanseria%20Smart%20City/MBA/%28JGU%29OPJindal/Coursework/Semester%202/Text%20Analytics/Final%20Assignment/Text%20Classification%20in%20Python.ipynb#X20sZmlsZQ%3D%3D?line=1'>2</a>\u001b[0m X \u001b[39m=\u001b[39m df\u001b[39m.\u001b[39mComments\n\u001b[0;32m      <a href='vscode-notebook-cell:/c%3A/Users/30089026/Documents/Lanseria%20Smart%20City/MBA/%28JGU%29OPJindal/Coursework/Semester%202/Text%20Analytics/Final%20Assignment/Text%20Classification%20in%20Python.ipynb#X20sZmlsZQ%3D%3D?line=3'>4</a>\u001b[0m \u001b[39mfrom\u001b[39;00m \u001b[39mnltk\u001b[39;00m\u001b[39m.\u001b[39;00m\u001b[39mstem\u001b[39;00m \u001b[39mimport\u001b[39;00m WordNetLemmatizer\n\u001b[0;32m      <a href='vscode-notebook-cell:/c%3A/Users/30089026/Documents/Lanseria%20Smart%20City/MBA/%28JGU%29OPJindal/Coursework/Semester%202/Text%20Analytics/Final%20Assignment/Text%20Classification%20in%20Python.ipynb#X20sZmlsZQ%3D%3D?line=5'>6</a>\u001b[0m stemmer \u001b[39m=\u001b[39m WordNetLemmatizer()\n",
      "\u001b[1;31mNameError\u001b[0m: name 'df' is not defined"
     ]
    }
   ],
   "source": [
    "comments = []\n",
    "X = df.Comments\n",
    "\n",
    "from nltk.stem import WordNetLemmatizer\n",
    "\n",
    "stemmer = WordNetLemmatizer()\n",
    "\n",
    "for sen in range(0, len(X)):\n",
    "    \n",
    "    '''\n",
    "    Remove all the special characters\n",
    "    '''\n",
    "    \n",
    "    comment = re.sub(r'\\W', ' ', str(X[sen]))\n",
    "    \n",
    "    '''\n",
    "    Remove all single characters\n",
    "    '''\n",
    "    comment = re.sub(r'\\s+[a-zA-Z]\\s+', ' ', comment)\n",
    "    \n",
    "    '''\n",
    "    Remove single characters from the start\n",
    "    '''\n",
    "    comment = re.sub(r'\\^[a-zA-Z]\\s+', ' ', comment) \n",
    "    \n",
    "    ''' \n",
    "    Replace multiple spaces with single space\n",
    "    '''\n",
    "    comment = re.sub(r'\\s+', ' ', comment, flags=re.I)\n",
    "    \n",
    "    '''\n",
    "    \n",
    "    Removing prefixed 'b'\n",
    "    '''\n",
    "    comment = re.sub(r'^b\\s+', '', comment)\n",
    "    \n",
    "    '''\n",
    "    Converting to Lowercase\n",
    "    '''\n",
    "    comment = comment.lower()\n",
    "    \n",
    "    '''\n",
    "    Lemmatization\n",
    "    '''\n",
    "    comment = comment.split()\n",
    "\n",
    "    comment = [stemmer.lemmatize(word) for word in comment]\n",
    "    comment = ' '.join(comment)\n",
    "    '''Append the cleaned comment to the list of comments'''\n",
    "    comments.append(comment)"
   ]
  },
  {
   "cell_type": "code",
   "execution_count": null,
   "id": "2da03b2e",
   "metadata": {},
   "outputs": [
    {
     "ename": "NameError",
     "evalue": "name 'CountVectorizer' is not defined",
     "output_type": "error",
     "traceback": [
      "\u001b[1;31m---------------------------------------------------------------------------\u001b[0m",
      "\u001b[1;31mNameError\u001b[0m                                 Traceback (most recent call last)",
      "\u001b[1;32mc:\\Users\\30089026\\Documents\\Lanseria Smart City\\MBA\\(JGU)OPJindal\\Coursework\\Semester 2\\Text Analytics\\Final Assignment\\Text Classification in Python.ipynb Cell 16\u001b[0m in \u001b[0;36m<cell line: 2>\u001b[1;34m()\u001b[0m\n\u001b[0;32m      <a href='vscode-notebook-cell:/c%3A/Users/30089026/Documents/Lanseria%20Smart%20City/MBA/%28JGU%29OPJindal/Coursework/Semester%202/Text%20Analytics/Final%20Assignment/Text%20Classification%20in%20Python.ipynb#X21sZmlsZQ%3D%3D?line=0'>1</a>\u001b[0m \u001b[39m#Convert the test data to numeric\u001b[39;00m\n\u001b[1;32m----> <a href='vscode-notebook-cell:/c%3A/Users/30089026/Documents/Lanseria%20Smart%20City/MBA/%28JGU%29OPJindal/Coursework/Semester%202/Text%20Analytics/Final%20Assignment/Text%20Classification%20in%20Python.ipynb#X21sZmlsZQ%3D%3D?line=1'>2</a>\u001b[0m vectorizer \u001b[39m=\u001b[39m CountVectorizer(max_features \u001b[39m=\u001b[39m \u001b[39m3000\u001b[39m, min_df \u001b[39m=\u001b[39m \u001b[39m5\u001b[39m, max_df \u001b[39m=\u001b[39m \u001b[39m0.7\u001b[39m, stop_words \u001b[39m=\u001b[39m stopwords\u001b[39m.\u001b[39mwords(\u001b[39m'\u001b[39m\u001b[39menglish\u001b[39m\u001b[39m'\u001b[39m))\n\u001b[0;32m      <a href='vscode-notebook-cell:/c%3A/Users/30089026/Documents/Lanseria%20Smart%20City/MBA/%28JGU%29OPJindal/Coursework/Semester%202/Text%20Analytics/Final%20Assignment/Text%20Classification%20in%20Python.ipynb#X21sZmlsZQ%3D%3D?line=2'>3</a>\u001b[0m X \u001b[39m=\u001b[39m vectorizer\u001b[39m.\u001b[39mfit_transform(comments)\u001b[39m.\u001b[39mtoarray()\n",
      "\u001b[1;31mNameError\u001b[0m: name 'CountVectorizer' is not defined"
     ]
    }
   ],
   "source": [
    "#Convert the test data to numeric\n",
    "vectorizer = CountVectorizer(max_features = 3000, min_df = 5, max_df = 0.7, stop_words = stopwords.words('english'))\n",
    "X = vectorizer.fit_transform(comments).toarray()"
   ]
  },
  {
   "cell_type": "code",
   "execution_count": null,
   "id": "2c08e74a",
   "metadata": {},
   "outputs": [
    {
     "ename": "NameError",
     "evalue": "name 'WordNetLemmatizer' is not defined",
     "output_type": "error",
     "traceback": [
      "\u001b[1;31m---------------------------------------------------------------------------\u001b[0m",
      "\u001b[1;31mNameError\u001b[0m                                 Traceback (most recent call last)",
      "\u001b[1;32mc:\\Users\\30089026\\Documents\\Lanseria Smart City\\MBA\\(JGU)OPJindal\\Coursework\\Semester 2\\Text Analytics\\Final Assignment\\Text Classification in Python.ipynb Cell 17\u001b[0m in \u001b[0;36m<cell line: 2>\u001b[1;34m()\u001b[0m\n\u001b[0;32m      <a href='vscode-notebook-cell:/c%3A/Users/30089026/Documents/Lanseria%20Smart%20City/MBA/%28JGU%29OPJindal/Coursework/Semester%202/Text%20Analytics/Final%20Assignment/Text%20Classification%20in%20Python.ipynb#X22sZmlsZQ%3D%3D?line=0'>1</a>\u001b[0m \u001b[39m#defining the object for Lemmatization\u001b[39;00m\n\u001b[1;32m----> <a href='vscode-notebook-cell:/c%3A/Users/30089026/Documents/Lanseria%20Smart%20City/MBA/%28JGU%29OPJindal/Coursework/Semester%202/Text%20Analytics/Final%20Assignment/Text%20Classification%20in%20Python.ipynb#X22sZmlsZQ%3D%3D?line=1'>2</a>\u001b[0m wordnet_lemmatizer \u001b[39m=\u001b[39m WordNetLemmatizer()\n\u001b[0;32m      <a href='vscode-notebook-cell:/c%3A/Users/30089026/Documents/Lanseria%20Smart%20City/MBA/%28JGU%29OPJindal/Coursework/Semester%202/Text%20Analytics/Final%20Assignment/Text%20Classification%20in%20Python.ipynb#X22sZmlsZQ%3D%3D?line=2'>3</a>\u001b[0m \u001b[39m#defining the function for lemmatization\u001b[39;00m\n\u001b[0;32m      <a href='vscode-notebook-cell:/c%3A/Users/30089026/Documents/Lanseria%20Smart%20City/MBA/%28JGU%29OPJindal/Coursework/Semester%202/Text%20Analytics/Final%20Assignment/Text%20Classification%20in%20Python.ipynb#X22sZmlsZQ%3D%3D?line=3'>4</a>\u001b[0m \u001b[39mdef\u001b[39;00m \u001b[39mlemmatizer\u001b[39m(text):\n",
      "\u001b[1;31mNameError\u001b[0m: name 'WordNetLemmatizer' is not defined"
     ]
    }
   ],
   "source": [
    "\n",
    "#defining the object for Lemmatization\n",
    "wordnet_lemmatizer = WordNetLemmatizer()\n",
    "#defining the function for lemmatization\n",
    "def lemmatizer(text):\n",
    "    lemm_text = [wordnet_lemmatizer.lemmatize(word) for word in text]\n",
    "    return lemm_text\n",
    "df['Comment_clean'] = df['Comment'].apply(lambda x:lemmatizer(x))\n",
    "\n",
    "#Get y\n",
    "y = df.IsToxic"
   ]
  },
  {
   "cell_type": "markdown",
   "id": "e83002a4",
   "metadata": {},
   "source": [
    "### Data Visualization"
   ]
  },
  {
   "cell_type": "code",
   "execution_count": null,
   "id": "fae23c4c",
   "metadata": {},
   "outputs": [
    {
     "data": {
      "text/plain": [
       "'Toxic'"
      ]
     },
     "execution_count": 31,
     "metadata": {},
     "output_type": "execute_result"
    }
   ],
   "source": [
    "'IsToxic'[2:]"
   ]
  },
  {
   "cell_type": "code",
   "execution_count": null,
   "id": "389e2b03",
   "metadata": {
    "scrolled": false
   },
   "outputs": [
    {
     "ename": "NameError",
     "evalue": "name 'plt' is not defined",
     "output_type": "error",
     "traceback": [
      "\u001b[1;31m---------------------------------------------------------------------------\u001b[0m",
      "\u001b[1;31mNameError\u001b[0m                                 Traceback (most recent call last)",
      "\u001b[1;32mc:\\Users\\30089026\\Documents\\Lanseria Smart City\\MBA\\(JGU)OPJindal\\Coursework\\Semester 2\\Text Analytics\\Final Assignment\\Text Classification in Python.ipynb Cell 20\u001b[0m in \u001b[0;36m<cell line: 6>\u001b[1;34m()\u001b[0m\n\u001b[0;32m      <a href='vscode-notebook-cell:/c%3A/Users/30089026/Documents/Lanseria%20Smart%20City/MBA/%28JGU%29OPJindal/Coursework/Semester%202/Text%20Analytics/Final%20Assignment/Text%20Classification%20in%20Python.ipynb#X25sZmlsZQ%3D%3D?line=0'>1</a>\u001b[0m attrs \u001b[39m=\u001b[39m [\u001b[39m'\u001b[39m\u001b[39mIsToxic\u001b[39m\u001b[39m'\u001b[39m, \u001b[39m'\u001b[39m\u001b[39mIsAbusive\u001b[39m\u001b[39m'\u001b[39m, \u001b[39m'\u001b[39m\u001b[39mIsThreat\u001b[39m\u001b[39m'\u001b[39m,\n\u001b[0;32m      <a href='vscode-notebook-cell:/c%3A/Users/30089026/Documents/Lanseria%20Smart%20City/MBA/%28JGU%29OPJindal/Coursework/Semester%202/Text%20Analytics/Final%20Assignment/Text%20Classification%20in%20Python.ipynb#X25sZmlsZQ%3D%3D?line=1'>2</a>\u001b[0m        \u001b[39m'\u001b[39m\u001b[39mIsProvocative\u001b[39m\u001b[39m'\u001b[39m, \u001b[39m'\u001b[39m\u001b[39mIsObscene\u001b[39m\u001b[39m'\u001b[39m, \u001b[39m'\u001b[39m\u001b[39mIsHatespeech\u001b[39m\u001b[39m'\u001b[39m, \u001b[39m'\u001b[39m\u001b[39mIsRacist\u001b[39m\u001b[39m'\u001b[39m,\n\u001b[0;32m      <a href='vscode-notebook-cell:/c%3A/Users/30089026/Documents/Lanseria%20Smart%20City/MBA/%28JGU%29OPJindal/Coursework/Semester%202/Text%20Analytics/Final%20Assignment/Text%20Classification%20in%20Python.ipynb#X25sZmlsZQ%3D%3D?line=2'>3</a>\u001b[0m        \u001b[39m'\u001b[39m\u001b[39mIsNationalist\u001b[39m\u001b[39m'\u001b[39m, \u001b[39m'\u001b[39m\u001b[39mIsSexist\u001b[39m\u001b[39m'\u001b[39m, \u001b[39m'\u001b[39m\u001b[39mIsHomophobic\u001b[39m\u001b[39m'\u001b[39m, \u001b[39m'\u001b[39m\u001b[39mIsReligiousHate\u001b[39m\u001b[39m'\u001b[39m,\n\u001b[0;32m      <a href='vscode-notebook-cell:/c%3A/Users/30089026/Documents/Lanseria%20Smart%20City/MBA/%28JGU%29OPJindal/Coursework/Semester%202/Text%20Analytics/Final%20Assignment/Text%20Classification%20in%20Python.ipynb#X25sZmlsZQ%3D%3D?line=3'>4</a>\u001b[0m        \u001b[39m'\u001b[39m\u001b[39mIsRadicalism\u001b[39m\u001b[39m'\u001b[39m]\n\u001b[0;32m      <a href='vscode-notebook-cell:/c%3A/Users/30089026/Documents/Lanseria%20Smart%20City/MBA/%28JGU%29OPJindal/Coursework/Semester%202/Text%20Analytics/Final%20Assignment/Text%20Classification%20in%20Python.ipynb#X25sZmlsZQ%3D%3D?line=5'>6</a>\u001b[0m \u001b[39mfor\u001b[39;00m item \u001b[39min\u001b[39;00m attrs:\n\u001b[1;32m----> <a href='vscode-notebook-cell:/c%3A/Users/30089026/Documents/Lanseria%20Smart%20City/MBA/%28JGU%29OPJindal/Coursework/Semester%202/Text%20Analytics/Final%20Assignment/Text%20Classification%20in%20Python.ipynb#X25sZmlsZQ%3D%3D?line=6'>7</a>\u001b[0m     fig , ax \u001b[39m=\u001b[39m plt\u001b[39m.\u001b[39msubplots(figsize\u001b[39m=\u001b[39m(\u001b[39m12\u001b[39m,\u001b[39m4\u001b[39m))\n\u001b[0;32m      <a href='vscode-notebook-cell:/c%3A/Users/30089026/Documents/Lanseria%20Smart%20City/MBA/%28JGU%29OPJindal/Coursework/Semester%202/Text%20Analytics/Final%20Assignment/Text%20Classification%20in%20Python.ipynb#X25sZmlsZQ%3D%3D?line=7'>8</a>\u001b[0m     sns\u001b[39m.\u001b[39mcountplot(x \u001b[39m=\u001b[39m item, data \u001b[39m=\u001b[39m df)\n\u001b[0;32m      <a href='vscode-notebook-cell:/c%3A/Users/30089026/Documents/Lanseria%20Smart%20City/MBA/%28JGU%29OPJindal/Coursework/Semester%202/Text%20Analytics/Final%20Assignment/Text%20Classification%20in%20Python.ipynb#X25sZmlsZQ%3D%3D?line=8'>9</a>\u001b[0m     plt\u001b[39m.\u001b[39mtitle(\u001b[39m\"\u001b[39m\u001b[39mDistribution of \u001b[39m\u001b[39m\"\u001b[39m \u001b[39m+\u001b[39m item[\u001b[39m2\u001b[39m:] \u001b[39m+\u001b[39m \u001b[39m\"\u001b[39m\u001b[39m and non\u001b[39m\u001b[39m\"\u001b[39m\u001b[39m+\u001b[39m\u001b[39m\"\u001b[39m\u001b[39m-\u001b[39m\u001b[39m\"\u001b[39m\u001b[39m+\u001b[39m item[\u001b[39m2\u001b[39m:] \u001b[39m+\u001b[39m \u001b[39m\"\u001b[39m\u001b[39m comments\u001b[39m\u001b[39m\"\u001b[39m)\n",
      "\u001b[1;31mNameError\u001b[0m: name 'plt' is not defined"
     ]
    }
   ],
   "source": [
    "attrs = ['IsToxic', 'IsAbusive', 'IsThreat',\n",
    "       'IsProvocative', 'IsObscene', 'IsHatespeech', 'IsRacist',\n",
    "       'IsNationalist', 'IsSexist', 'IsHomophobic', 'IsReligiousHate',\n",
    "       'IsRadicalism']\n",
    "\n",
    "for item in attrs:\n",
    "    fig , ax = plt.subplots(figsize=(12,4))\n",
    "    sns.countplot(x = item, data = df)\n",
    "    plt.title(\"Distribution of \" + item[2:] + \" and non\"+\"-\"+ item[2:] + \" comments\")\n",
    "    plt.grid()\n",
    "    plt.show()"
   ]
  },
  {
   "cell_type": "code",
   "execution_count": null,
   "id": "ee736d81",
   "metadata": {},
   "outputs": [
    {
     "ename": "NameError",
     "evalue": "name 'df' is not defined",
     "output_type": "error",
     "traceback": [
      "\u001b[1;31m---------------------------------------------------------------------------\u001b[0m",
      "\u001b[1;31mNameError\u001b[0m                                 Traceback (most recent call last)",
      "\u001b[1;32mc:\\Users\\30089026\\Documents\\Lanseria Smart City\\MBA\\(JGU)OPJindal\\Coursework\\Semester 2\\Text Analytics\\Final Assignment\\Text Classification in Python.ipynb Cell 21\u001b[0m in \u001b[0;36m<cell line: 1>\u001b[1;34m()\u001b[0m\n\u001b[1;32m----> <a href='vscode-notebook-cell:/c%3A/Users/30089026/Documents/Lanseria%20Smart%20City/MBA/%28JGU%29OPJindal/Coursework/Semester%202/Text%20Analytics/Final%20Assignment/Text%20Classification%20in%20Python.ipynb#ch0000020?line=0'>1</a>\u001b[0m df\u001b[39m.\u001b[39mIsToxic\u001b[39m.\u001b[39mvalue_counts()\n",
      "\u001b[1;31mNameError\u001b[0m: name 'df' is not defined"
     ]
    }
   ],
   "source": [
    "df.IsToxic.value_counts()"
   ]
  },
  {
   "cell_type": "markdown",
   "id": "53c93aa2",
   "metadata": {},
   "source": [
    "### Text Classification\n",
    "\n",
    "For the text classification process, we will fit four models i.e., Support Vector Machine (SVM), Random Forest (RF), Naive Bayes (NB), and Decision Tree (DT).\n",
    "\n",
    "We will also evaluate the performance of the model using the classification report function in sklearn which shows how the model performs using various metrics."
   ]
  },
  {
   "cell_type": "markdown",
   "id": "d366cdd2",
   "metadata": {},
   "source": [
    "##### Split data to train and validation sets"
   ]
  },
  {
   "cell_type": "code",
   "execution_count": null,
   "id": "e8540d12",
   "metadata": {},
   "outputs": [
    {
     "ename": "NameError",
     "evalue": "name 'train_test_split' is not defined",
     "output_type": "error",
     "traceback": [
      "\u001b[1;31m---------------------------------------------------------------------------\u001b[0m",
      "\u001b[1;31mNameError\u001b[0m                                 Traceback (most recent call last)",
      "\u001b[1;32mc:\\Users\\30089026\\Documents\\Lanseria Smart City\\MBA\\(JGU)OPJindal\\Coursework\\Semester 2\\Text Analytics\\Final Assignment\\Text Classification in Python.ipynb Cell 24\u001b[0m in \u001b[0;36m<cell line: 1>\u001b[1;34m()\u001b[0m\n\u001b[1;32m----> <a href='vscode-notebook-cell:/c%3A/Users/30089026/Documents/Lanseria%20Smart%20City/MBA/%28JGU%29OPJindal/Coursework/Semester%202/Text%20Analytics/Final%20Assignment/Text%20Classification%20in%20Python.ipynb#X32sZmlsZQ%3D%3D?line=0'>1</a>\u001b[0m X_train,X_test, y_train, y_test \u001b[39m=\u001b[39m train_test_split(X, y, test_size \u001b[39m=\u001b[39m \u001b[39m0.3\u001b[39m, random_state \u001b[39m=\u001b[39m \u001b[39m1\u001b[39m)\n",
      "\u001b[1;31mNameError\u001b[0m: name 'train_test_split' is not defined"
     ]
    }
   ],
   "source": [
    "X_train,X_test, y_train, y_test = train_test_split(X, y, test_size = 0.3, random_state = 1)"
   ]
  },
  {
   "cell_type": "markdown",
   "id": "bff318b4",
   "metadata": {},
   "source": [
    "##### Random Forest"
   ]
  },
  {
   "cell_type": "code",
   "execution_count": null,
   "id": "fe50c3d8",
   "metadata": {},
   "outputs": [
    {
     "ename": "NameError",
     "evalue": "name 'RandomForestClassifier' is not defined",
     "output_type": "error",
     "traceback": [
      "\u001b[1;31m---------------------------------------------------------------------------\u001b[0m",
      "\u001b[1;31mNameError\u001b[0m                                 Traceback (most recent call last)",
      "\u001b[1;32mc:\\Users\\30089026\\Documents\\Lanseria Smart City\\MBA\\(JGU)OPJindal\\Coursework\\Semester 2\\Text Analytics\\Final Assignment\\Text Classification in Python.ipynb Cell 26\u001b[0m in \u001b[0;36m<cell line: 2>\u001b[1;34m()\u001b[0m\n\u001b[0;32m      <a href='vscode-notebook-cell:/c%3A/Users/30089026/Documents/Lanseria%20Smart%20City/MBA/%28JGU%29OPJindal/Coursework/Semester%202/Text%20Analytics/Final%20Assignment/Text%20Classification%20in%20Python.ipynb#X34sZmlsZQ%3D%3D?line=0'>1</a>\u001b[0m \u001b[39m#define random forest model\u001b[39;00m\n\u001b[1;32m----> <a href='vscode-notebook-cell:/c%3A/Users/30089026/Documents/Lanseria%20Smart%20City/MBA/%28JGU%29OPJindal/Coursework/Semester%202/Text%20Analytics/Final%20Assignment/Text%20Classification%20in%20Python.ipynb#X34sZmlsZQ%3D%3D?line=1'>2</a>\u001b[0m rf \u001b[39m=\u001b[39m RandomForestClassifier(random_state \u001b[39m=\u001b[39m \u001b[39m1\u001b[39m)\n\u001b[0;32m      <a href='vscode-notebook-cell:/c%3A/Users/30089026/Documents/Lanseria%20Smart%20City/MBA/%28JGU%29OPJindal/Coursework/Semester%202/Text%20Analytics/Final%20Assignment/Text%20Classification%20in%20Python.ipynb#X34sZmlsZQ%3D%3D?line=3'>4</a>\u001b[0m \u001b[39m#fit the model\u001b[39;00m\n\u001b[0;32m      <a href='vscode-notebook-cell:/c%3A/Users/30089026/Documents/Lanseria%20Smart%20City/MBA/%28JGU%29OPJindal/Coursework/Semester%202/Text%20Analytics/Final%20Assignment/Text%20Classification%20in%20Python.ipynb#X34sZmlsZQ%3D%3D?line=4'>5</a>\u001b[0m rf\u001b[39m.\u001b[39mfit(X_train, y_train)\n",
      "\u001b[1;31mNameError\u001b[0m: name 'RandomForestClassifier' is not defined"
     ]
    }
   ],
   "source": [
    "#define random forest model\n",
    "rf = RandomForestClassifier(random_state = 1)\n",
    "\n",
    "#fit the model\n",
    "rf.fit(X_train, y_train)\n",
    "#make predictions\n",
    "preds = rf.predict(X_test)\n",
    "rf_f1 = round(f1_score(preds, y_test), 4)\n",
    "rf_acc = round(accuracy_score(preds, y_test), 4)\n",
    "print(\"F1-Score:\", rf_f1)\n",
    "#evaluate performance on test data\n",
    "print(classification_report(preds, y_test))"
   ]
  },
  {
   "cell_type": "markdown",
   "id": "a74d2293",
   "metadata": {},
   "source": [
    "##### Decision Tree"
   ]
  },
  {
   "cell_type": "code",
   "execution_count": null,
   "id": "e43e05f2",
   "metadata": {},
   "outputs": [
    {
     "ename": "NameError",
     "evalue": "name 'DecisionTreeClassifier' is not defined",
     "output_type": "error",
     "traceback": [
      "\u001b[1;31m---------------------------------------------------------------------------\u001b[0m",
      "\u001b[1;31mNameError\u001b[0m                                 Traceback (most recent call last)",
      "\u001b[1;32mc:\\Users\\30089026\\Documents\\Lanseria Smart City\\MBA\\(JGU)OPJindal\\Coursework\\Semester 2\\Text Analytics\\Final Assignment\\Text Classification in Python.ipynb Cell 28\u001b[0m in \u001b[0;36m<cell line: 2>\u001b[1;34m()\u001b[0m\n\u001b[0;32m      <a href='vscode-notebook-cell:/c%3A/Users/30089026/Documents/Lanseria%20Smart%20City/MBA/%28JGU%29OPJindal/Coursework/Semester%202/Text%20Analytics/Final%20Assignment/Text%20Classification%20in%20Python.ipynb#X36sZmlsZQ%3D%3D?line=0'>1</a>\u001b[0m \u001b[39m#define decision tree model\u001b[39;00m\n\u001b[1;32m----> <a href='vscode-notebook-cell:/c%3A/Users/30089026/Documents/Lanseria%20Smart%20City/MBA/%28JGU%29OPJindal/Coursework/Semester%202/Text%20Analytics/Final%20Assignment/Text%20Classification%20in%20Python.ipynb#X36sZmlsZQ%3D%3D?line=1'>2</a>\u001b[0m dt \u001b[39m=\u001b[39m DecisionTreeClassifier(random_state \u001b[39m=\u001b[39m \u001b[39m1\u001b[39m)\n\u001b[0;32m      <a href='vscode-notebook-cell:/c%3A/Users/30089026/Documents/Lanseria%20Smart%20City/MBA/%28JGU%29OPJindal/Coursework/Semester%202/Text%20Analytics/Final%20Assignment/Text%20Classification%20in%20Python.ipynb#X36sZmlsZQ%3D%3D?line=2'>3</a>\u001b[0m \u001b[39m#fit the model\u001b[39;00m\n\u001b[0;32m      <a href='vscode-notebook-cell:/c%3A/Users/30089026/Documents/Lanseria%20Smart%20City/MBA/%28JGU%29OPJindal/Coursework/Semester%202/Text%20Analytics/Final%20Assignment/Text%20Classification%20in%20Python.ipynb#X36sZmlsZQ%3D%3D?line=3'>4</a>\u001b[0m dt\u001b[39m.\u001b[39mfit(X_train, y_train)\n",
      "\u001b[1;31mNameError\u001b[0m: name 'DecisionTreeClassifier' is not defined"
     ]
    }
   ],
   "source": [
    "#define decision tree model\n",
    "dt = DecisionTreeClassifier(random_state = 1)\n",
    "#fit the model\n",
    "dt.fit(X_train, y_train)\n",
    "#make predictions\n",
    "preds = dt.predict(X_test)\n",
    "#evaluate performance on test data\n",
    "dt_f1 = round(f1_score(preds, y_test), 4)\n",
    "dt_acc = round(accuracy_score(preds, y_test), 4)\n",
    "print(\"F1-Score:\", dt_f1)\n",
    "print(classification_report(preds, y_test))"
   ]
  },
  {
   "cell_type": "markdown",
   "id": "5da53849",
   "metadata": {},
   "source": [
    "##### Naive Bayes"
   ]
  },
  {
   "cell_type": "code",
   "execution_count": null,
   "id": "3b184800",
   "metadata": {},
   "outputs": [
    {
     "name": "stdout",
     "output_type": "stream",
     "text": [
      "F1-Score: 0.6336\n",
      "              precision    recall  f1-score   support\n",
      "\n",
      "       False       0.34      0.63      0.44        82\n",
      "        True       0.79      0.53      0.63       218\n",
      "\n",
      "    accuracy                           0.56       300\n",
      "   macro avg       0.56      0.58      0.54       300\n",
      "weighted avg       0.67      0.56      0.58       300\n",
      "\n"
     ]
    }
   ],
   "source": [
    "#Define Naive Bayes model\n",
    "nb = GaussianNB()\n",
    "#fit the model\n",
    "nb.fit(X_train, y_train)\n",
    "#make predictions\n",
    "preds = nb.predict(X_test)\n",
    "#evaluate performance on test data\n",
    "nb_f1 = round(f1_score(preds, y_test), 4)\n",
    "nb_acc = round(accuracy_score(preds, y_test), 4)\n",
    "print(\"F1-Score:\", nb_f1)\n",
    "print(classification_report(preds, y_test))"
   ]
  },
  {
   "cell_type": "markdown",
   "id": "d29a9cd7",
   "metadata": {},
   "source": [
    "##### Support Vector Machine"
   ]
  },
  {
   "cell_type": "code",
   "execution_count": null,
   "id": "7dfea5b3",
   "metadata": {},
   "outputs": [
    {
     "name": "stdout",
     "output_type": "stream",
     "text": [
      "F1-Score: 0.5179\n",
      "              precision    recall  f1-score   support\n",
      "\n",
      "       False       0.86      0.61      0.71       221\n",
      "        True       0.40      0.73      0.52        79\n",
      "\n",
      "    accuracy                           0.64       300\n",
      "   macro avg       0.63      0.67      0.62       300\n",
      "weighted avg       0.74      0.64      0.66       300\n",
      "\n"
     ]
    }
   ],
   "source": [
    "#Define the model\n",
    "svm = SVC()\n",
    "svm.fit(X_train, y_train)\n",
    "#make predictions\n",
    "preds = svm.predict(X_test)\n",
    "#evaluate performance on test data\n",
    "svm_f1 = round(f1_score(preds, y_test), 4)\n",
    "svm_acc = round(accuracy_score(preds, y_test), 4)\n",
    "print(\"F1-Score:\", svm_f1)\n",
    "print(classification_report(preds, y_test))"
   ]
  },
  {
   "cell_type": "markdown",
   "id": "d4cbc9d4",
   "metadata": {},
   "source": [
    "##### Insights gained"
   ]
  },
  {
   "cell_type": "markdown",
   "id": "f2e7cc5a",
   "metadata": {},
   "source": [
    "> Based on the performance of the four models, it was noted that the Random Forest model with a classification accuracy of 74% has the best performance. Therefore, we will attempt to optimize the model to improve its performance,"
   ]
  },
  {
   "cell_type": "code",
   "execution_count": null,
   "id": "3a5b93e7",
   "metadata": {},
   "outputs": [],
   "source": [
    "max_depth = [10, 100, 10000, 100000] # maximum number of levels allowed in each decision tree\n",
    "\n",
    "random_grid = {\n",
    "\n",
    "'max_depth': max_depth\n",
    "}"
   ]
  },
  {
   "cell_type": "code",
   "execution_count": null,
   "id": "bb615384",
   "metadata": {},
   "outputs": [
    {
     "name": "stdout",
     "output_type": "stream",
     "text": [
      "Best Parameters:  {'max_depth': 10000}  \n",
      "\n",
      "Model performance\n",
      "F1-Score: 0.7228\n",
      "              precision    recall  f1-score   support\n",
      "\n",
      "       False       0.76      0.74      0.75       160\n",
      "        True       0.71      0.74      0.72       140\n",
      "\n",
      "    accuracy                           0.74       300\n",
      "   macro avg       0.74      0.74      0.74       300\n",
      "weighted avg       0.74      0.74      0.74       300\n",
      "\n",
      "CPU times: user 577 ms, sys: 69.2 ms, total: 646 ms\n",
      "Wall time: 4.35 s\n"
     ]
    }
   ],
   "source": [
    "%%time\n",
    "rf_random = RandomizedSearchCV(estimator = rf,\n",
    "\n",
    "param_distributions = random_grid,\n",
    "               n_iter = 1000, cv = 2, verbose=0, random_state = 1, n_jobs = -1)\n",
    "#Train and fit the model\n",
    "rf_random.fit(X_train,y_train)\n",
    "\n",
    "\n",
    "# Get best parameters\n",
    "print ('Best Parameters: ', rf_random.best_params_, ' \\n')\n",
    "\n",
    "#make predictions\n",
    "preds = rf_random.predict(X_test)\n",
    "#evaluate performance on test data\n",
    "print(\"Model performance\")\n",
    "opt_rf_f1 = round(f1_score(preds, y_test), 4)\n",
    "opt_rf_acc = round(accuracy_score(preds, y_test), 4)\n",
    "print(\"F1-Score:\", opt_rf_f1)\n",
    "print(classification_report(preds, y_test))"
   ]
  },
  {
   "cell_type": "markdown",
   "id": "1367e2e0",
   "metadata": {},
   "source": [
    "#### Final Remarks"
   ]
  },
  {
   "cell_type": "code",
   "execution_count": null,
   "id": "fe27482b",
   "metadata": {},
   "outputs": [],
   "source": []
  },
  {
   "cell_type": "code",
   "execution_count": null,
   "id": "c55f1608",
   "metadata": {},
   "outputs": [
    {
     "data": {
      "text/html": [
       "<div>\n",
       "<style scoped>\n",
       "    .dataframe tbody tr th:only-of-type {\n",
       "        vertical-align: middle;\n",
       "    }\n",
       "\n",
       "    .dataframe tbody tr th {\n",
       "        vertical-align: top;\n",
       "    }\n",
       "\n",
       "    .dataframe thead th {\n",
       "        text-align: right;\n",
       "    }\n",
       "</style>\n",
       "<table border=\"1\" class=\"dataframe\">\n",
       "  <thead>\n",
       "    <tr style=\"text-align: right;\">\n",
       "      <th></th>\n",
       "      <th>Model</th>\n",
       "      <th>F1 score</th>\n",
       "      <th>Accuracy</th>\n",
       "    </tr>\n",
       "  </thead>\n",
       "  <tbody>\n",
       "    <tr>\n",
       "      <th>2</th>\n",
       "      <td>Random Forest</td>\n",
       "      <td>0.7228</td>\n",
       "      <td>0.7367</td>\n",
       "    </tr>\n",
       "    <tr>\n",
       "      <th>4</th>\n",
       "      <td>Optimized Random Forest</td>\n",
       "      <td>0.7228</td>\n",
       "      <td>0.7367</td>\n",
       "    </tr>\n",
       "    <tr>\n",
       "      <th>1</th>\n",
       "      <td>Decision Tree</td>\n",
       "      <td>0.6712</td>\n",
       "      <td>0.6767</td>\n",
       "    </tr>\n",
       "    <tr>\n",
       "      <th>0</th>\n",
       "      <td>Naive Bayes</td>\n",
       "      <td>0.6336</td>\n",
       "      <td>0.5567</td>\n",
       "    </tr>\n",
       "    <tr>\n",
       "      <th>3</th>\n",
       "      <td>Support Vector Machine</td>\n",
       "      <td>0.5179</td>\n",
       "      <td>0.6400</td>\n",
       "    </tr>\n",
       "  </tbody>\n",
       "</table>\n",
       "</div>"
      ],
      "text/plain": [
       "                     Model  F1 score  Accuracy\n",
       "2            Random Forest    0.7228    0.7367\n",
       "4  Optimized Random Forest    0.7228    0.7367\n",
       "1            Decision Tree    0.6712    0.6767\n",
       "0              Naive Bayes    0.6336    0.5567\n",
       "3   Support Vector Machine    0.5179    0.6400"
      ]
     },
     "execution_count": 65,
     "metadata": {},
     "output_type": "execute_result"
    }
   ],
   "source": [
    "#Store the results\n",
    "models = [\"Naive Bayes\", \"Decision Tree\", \"Random Forest\", \"Support Vector Machine\", \"Optimized Random Forest\"]\n",
    "f1s = [nb_f1, dt_f1, rf_f1, svm_f1, opt_rf_f1]\n",
    "accs = [nb_acc, dt_acc, rf_acc, svm_acc, opt_rf_acc]\n",
    "#Model performance\n",
    "perf = pd.DataFrame()\n",
    "perf['Model'] = models\n",
    "perf['F1 score'] = f1s\n",
    "perf['Accuracy'] = accs\n",
    "perf = perf.sort_values(\"F1 score\", ascending = False)\n",
    "perf.to_csv(\"model performance.csv\", index = False)\n",
    "perf"
   ]
  },
  {
   "cell_type": "markdown",
   "id": "49aad185",
   "metadata": {},
   "source": [
    "The random forest model attains a classification accuracy of approaximately 74% when optimized implying that the model will correctly predict whether a  Youtube comment is toxic or not 74% of the time which is a decent performance given the size of the dataset."
   ]
  }
 ],
 "metadata": {
  "kernelspec": {
   "display_name": "Python 3.10.5 64-bit",
   "language": "python",
   "name": "python3"
  },
  "language_info": {
   "codemirror_mode": {
    "name": "ipython",
    "version": 3
   },
   "file_extension": ".py",
   "mimetype": "text/x-python",
   "name": "python",
   "nbconvert_exporter": "python",
   "pygments_lexer": "ipython3",
   "version": "3.10.5"
  },
  "vscode": {
   "interpreter": {
    "hash": "35d7384544a301f2573b23b99c6a84f666651ae131bb089ab873458450c51b00"
   }
  }
 },
 "nbformat": 4,
 "nbformat_minor": 5
}
